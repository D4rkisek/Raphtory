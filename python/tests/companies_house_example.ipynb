{
 "cells": [
  {
   "attachments": {},
   "cell_type": "markdown",
   "metadata": {},
   "source": [
    "# Companies House Example 💼"
   ]
  },
  {
   "attachments": {},
   "cell_type": "markdown",
   "metadata": {},
   "source": [
    "Install and import all dependencies."
   ]
  },
  {
   "cell_type": "code",
   "execution_count": 1,
   "metadata": {},
   "outputs": [],
   "source": [
    "import pandas as pd\n",
    "import csv\n",
    "import matplotlib.pyplot as plt"
   ]
  },
  {
   "attachments": {},
   "cell_type": "markdown",
   "metadata": {},
   "source": [
    "## Visualise graph with vis.draw() method in Raphtory.\n",
    "### vis.draw() requires a Raphtory graph. "
   ]
  },
  {
   "attachments": {},
   "cell_type": "markdown",
   "metadata": {},
   "source": [
    "1. If you would like custom node images, you can add an image url as a property when adding a vertex onto the Raphtory graph. e.g. properties = {\"image\": \"your-image-url.png\"}. Then add the property name to variable `node_image` when calling vis.draw(). You will also need to set the variable `shape` as \"image\".\n",
    "\n",
    "2. To change the thickness of an edge based off edge weight, make sure you add your edge weights as a property when adding edges to your Raphtory graph. e.g. properties = {\"weight\": 1}. You will also need to set the variable `edge_weight` to the your property name when calling vis.draw().\n",
    "\n",
    "3. To add labels on your edges which can be seen when hovering over the edges with your cursor, you will need to add your label text as a property when adding your edges. You will also need to set the variable `edge_label` when you call vis.draw()."
   ]
  },
  {
   "cell_type": "code",
   "execution_count": 2,
   "metadata": {},
   "outputs": [
    {
     "name": "stdout",
     "output_type": "stream",
     "text": [
      "Warning: When  cdn_resources is 'local' jupyter notebook has issues displaying graphics on chrome/safari. Use cdn_resources='in_line' or cdn_resources='remote' if you have issues viewing graphics in a notebook.\n",
      "nx.html\n"
     ]
    }
   ],
   "source": [
    "from raphtory import vis\n",
    "from raphtory import Graph\n",
    "\n",
    "file = \"/tmp/companies_nhs_example.csv\"\n",
    "g = Graph()\n",
    "with open(file) as csv_file:\n",
    "    csv_reader = csv.reader(csv_file, delimiter = ',')\n",
    "    next(csv_reader)\n",
    "    for row in csv_reader:\n",
    "        src = row[1].strip()\n",
    "        dst = row[7].strip()\n",
    "        company = row[2].replace(\"'\", \"\")\n",
    "        notified_on = row[0]\n",
    "        share = row[3]\n",
    "        title = f'Ownership: {share}%, Notified On: {notified_on}'\n",
    "\n",
    "        g.add_vertex(1, src, properties={\"image\": \"https://www.seekpng.com/png/small/846-8465978_critres-de-choix-pour-la-solution-de-cration.png\"})\n",
    "        g.add_vertex(1, dst, properties={\"image\": \"https://www.seekpng.com/png/small/846-8465978_critres-de-choix-pour-la-solution-de-cration.png\"})\n",
    "        g.add_vertex(1, company, properties={\"image\": \"https://cdn-icons-png.flaticon.com/512/2083/2083417.png\"})\n",
    "        g.add_edge(1, src, company, properties={\"title\": title, \"weight\": share})\n",
    "        g.add_edge(1, dst, company, properties={\"title\": title, \"weight\": share})\n",
    "        \n",
    "vis.draw(graph=g, edge_color='#F6E1D3', edge_weight=\"weight\", shape=\"image\", edge_label=\"title\", node_image=\"image\")  "
   ]
  }
 ],
 "metadata": {
  "kernelspec": {
   "display_name": "docbrown",
   "language": "python",
   "name": "python3"
  },
  "language_info": {
   "codemirror_mode": {
    "name": "ipython",
    "version": 3
   },
   "file_extension": ".py",
   "mimetype": "text/x-python",
   "name": "python",
   "nbconvert_exporter": "python",
   "pygments_lexer": "ipython3",
   "version": "3.10.9"
  },
  "orig_nbformat": 4
 },
 "nbformat": 4,
 "nbformat_minor": 2
}
